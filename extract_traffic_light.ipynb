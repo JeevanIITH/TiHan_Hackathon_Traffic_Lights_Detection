{
 "cells": [
  {
   "cell_type": "code",
   "execution_count": 1,
   "metadata": {},
   "outputs": [],
   "source": [
    "import tensorflow as tf \n",
    "import numpy as np \n",
    "import cv2 \n",
    "import glob "
   ]
  },
  {
   "cell_type": "code",
   "execution_count": 2,
   "metadata": {},
   "outputs": [],
   "source": [
    "file='red_lights.jpg'\n",
    "model_name = \"ssd_resnet50_v1_fpn_640x640_coco17_tpu-8\"\n",
    "url = 'http://download.tensorflow.org/models/object_detection/tf2/20200711/' + model_name + '.tar.gz'\n",
    "    \n",
    "# It will download the model and return the directory where it is downloaded.\n",
    "model_dir = tf.keras.utils.get_file(fname=model_name, untar=True, origin=url)\n",
    "\n",
    "model_dir = str(model_dir) + \"/saved_model\"\n",
    "model = tf.saved_model.load(str(model_dir))"
   ]
  },
  {
   "cell_type": "code",
   "execution_count": 3,
   "metadata": {},
   "outputs": [],
   "source": [
    "file='images/images_today1.jpeg'\n",
    "traffic_light_count = 0\n",
    "# read images.\n",
    "img_bgr = cv2.imread(file)\n",
    "img_rgb = cv2.cvtColor(img_bgr, cv2.COLOR_BGR2RGB)\n",
    "input_tensor = tf.convert_to_tensor(img_rgb) # Input needs to be a tensor\n",
    "input_tensor = input_tensor[tf.newaxis, ...]\n",
    "\n",
    "# this will detect any tranffic lights in given images.\n",
    "output = model(input_tensor)\n",
    "\n",
    "# print(\"num_detections:\", output['num_detections'], int(output['num_detections']))\n",
    "\n",
    "# Convert the tensors to a NumPy array\n",
    "num_detections = int(output.pop('num_detections'))\n",
    "output = {key: value[0, :num_detections].numpy()\n",
    "        for key, value in output.items()}\n",
    "output['num_detections'] = num_detections\n",
    "\n",
    "# print('Detection classes:', output['detection_classes'])\n",
    "# print('Detection Boxes:', output['detection_boxes'])\n",
    "\n",
    "# The detected classes need to be integers.\n",
    "output['detection_classes'] = output['detection_classes'].astype(np.int64)\n",
    "output['boxes'] = [\n",
    "{\"y\": int(box[0] * img_rgb.shape[0]), \"x\": int(box[1] * img_rgb.shape[1]), \"y2\": int(box[2] * img_rgb.shape[0]),\n",
    "    \"x2\": int(box[3] * img_rgb.shape[1])} for box in output['detection_boxes']]\n",
    "\n",
    "\n",
    "out = output\n"
   ]
  },
  {
   "cell_type": "code",
   "execution_count": 9,
   "metadata": {},
   "outputs": [
    {
     "name": "stdout",
     "output_type": "stream",
     "text": [
      "written to file.\n",
      "written to file.\n",
      "written to file.\n",
      "written to file.\n",
      "Number of Traffic lights identified: 4\n"
     ]
    }
   ],
   "source": [
    "traffic_light_count = 0\n",
    "for idx in range(len(out['boxes'])):\n",
    " \n",
    "    # Extract the type of object that was detected  \n",
    "    obj_class = out[\"detection_classes\"][idx]\n",
    "    score = int(out[\"detection_scores\"][idx] * 100)\n",
    "    # If the object that was detected is a traffic light\n",
    "    if obj_class == 10:\n",
    "         \n",
    "      # Extract the coordinates of the bounding box\n",
    "      box = out[\"boxes\"][idx]\n",
    "             \n",
    "      # Extract (i.e. crop) the traffic light from the image     \n",
    "      traffic_light = img_rgb[box[\"y\"]:box[\"y2\"], box[\"x\"]:box[\"x2\"]]\n",
    "             \n",
    "      # Convert the traffic light from RGB format into BGR format\n",
    "      traffic_light = cv2.cvtColor(traffic_light, cv2.COLOR_RGB2BGR)\n",
    " \n",
    "      if score > 20:\n",
    "        # Store the cropped image in a folder named 'traffic_light_cropped'     \n",
    "        cv2.imwrite(\"traffic_light_cropped_detected3/\" + str(traffic_light_count) + \".jpg\", traffic_light)\n",
    "        print('written to file.')     \n",
    "        # Increment the number of traffic lights by 1\n",
    "        traffic_light_count = traffic_light_count + 1\n",
    " \n",
    "# Display the total number of traffic lights identified\n",
    "print(\"Number of Traffic lights identified:\", traffic_light_count)"
   ]
  }
 ],
 "metadata": {
  "kernelspec": {
   "display_name": "py10",
   "language": "python",
   "name": "python3"
  },
  "language_info": {
   "codemirror_mode": {
    "name": "ipython",
    "version": 3
   },
   "file_extension": ".py",
   "mimetype": "text/x-python",
   "name": "python",
   "nbconvert_exporter": "python",
   "pygments_lexer": "ipython3",
   "version": "3.10.9"
  },
  "orig_nbformat": 4
 },
 "nbformat": 4,
 "nbformat_minor": 2
}
